{
 "cells": [
  {
   "cell_type": "code",
   "execution_count": 1,
   "id": "e94e22e4",
   "metadata": {},
   "outputs": [],
   "source": [
    "# Importing necessary libraries\n",
    "import pandas as pd\n",
    "from utils import *\n"
   ]
  },
  {
   "cell_type": "code",
   "execution_count": 2,
   "id": "1d23f7d4",
   "metadata": {},
   "outputs": [],
   "source": [
    "# Hyperparameters and paths\n",
    "\n",
    "first_execution = False  # Set to True for the first execution to split the excel file\n",
    "\n",
    "RAW = Path(\"data/raw/Observations_2012-2025.xlsx\")\n",
    "OUT_FILT = Path(\"data/filtered\")\n",
    "OUT_CLEAN = Path(\"data/cleaned\")\n",
    "OUT_DRAFT = Path(\"data/drafts\")\n",
    "\n",
    "sheets_to_csv_filtered = {\n",
    "    \"ESPECES\": \"especes.csv\",\n",
    "    \"GPS-MILIEU\": \"gps_milieu.csv\",\n",
    "    \"NOM FRANÇAIS\": \"observations.csv\",\n",
    "}\n",
    "\n",
    "sheets_to_csv_cleaned = {\n",
    "    \"ESPECES\": \"especes_clean.csv\",\n",
    "    \"GPS-MILIEU\": \"gps_milieu_clean.csv\",\n",
    "    \"NOM FRANÇAIS\": \"nom_francais_clean.csv\",\n",
    "}\n"
   ]
  },
  {
   "cell_type": "code",
   "execution_count": 3,
   "id": "94f3917a",
   "metadata": {},
   "outputs": [],
   "source": [
    "# Run on the first execution to split and save the excel file into multiple csv files\n",
    "if first_execution:\n",
    "    print(split_excel_to_csvs(RAW, OUT_FILT, sheets_to_csv_filtered))"
   ]
  },
  {
   "cell_type": "code",
   "execution_count": 4,
   "id": "056fbdf5",
   "metadata": {},
   "outputs": [
    {
     "name": "stdout",
     "output_type": "stream",
     "text": [
      "ESPECES: (86, 5)\n",
      "GPS-MILIEU: (651, 8)\n",
      "NOM FRANÇAIS: (114497, 26)\n"
     ]
    }
   ],
   "source": [
    "# For following executions, load the csv files directly\n",
    "dfs = load_csvs(OUT_FILT, sheets_to_csv_filtered)\n",
    "for k, df in dfs.items():\n",
    "    print(f\"{k}: {df.shape}\")\n"
   ]
  },
  {
   "cell_type": "code",
   "execution_count": 5,
   "id": "59867cbd",
   "metadata": {},
   "outputs": [],
   "source": [
    "# Visual inspection of dataframes, uncoment as needed\n",
    "# dfs['ESPECES']\n",
    "# dfs['GPS-MILIEU'].head()\n",
    "# dfs['NOM FRANÇAIS'].head()"
   ]
  },
  {
   "cell_type": "code",
   "execution_count": 6,
   "id": "05ce7eff",
   "metadata": {},
   "outputs": [],
   "source": [
    "if True:\n",
    "    # Cleaning dataframes from initial loading issues\n",
    "    clean_especes = clean_especes(dfs[\"ESPECES\"])\n",
    "    clean_gps = clean_gps(dfs[\"GPS-MILIEU\"])\n",
    "    clean_nom_francais = clean_observations(dfs[\"NOM FRANÇAIS\"])\n",
    "\n",
    "    # Saving cleaned dataframes back to csv files\n",
    "    save_clean_csvs({\"ESPECES\": clean_especes, \"GPS-MILIEU\": clean_gps, \"NOM FRANÇAIS\": clean_nom_francais}, OUT_CLEAN)\n",
    "\n",
    "else:\n",
    "    # Loading cleaned dataframes directly from csv files\n",
    "    clean_dfs = load_csvs(OUT_CLEAN, sheets_to_csv_cleaned)\n",
    "    clean_especes = clean_dfs[\"ESPECES\"]\n",
    "    clean_gps = clean_dfs[\"GPS-MILIEU\"]\n",
    "    clean_nom_francais = clean_dfs[\"NOM FRANÇAIS\"]\n",
    "\n",
    "# uncomment as needed to inspect cleaned dataframes\n",
    "# clean_especes.head()\n",
    "# clean_gps.head()\n",
    "# clean_nom_francais.head()"
   ]
  },
  {
   "cell_type": "code",
   "execution_count": null,
   "id": "0f4cafcf",
   "metadata": {},
   "outputs": [],
   "source": []
  }
 ],
 "metadata": {
  "kernelspec": {
   "display_name": "applStat",
   "language": "python",
   "name": "python3"
  },
  "language_info": {
   "codemirror_mode": {
    "name": "ipython",
    "version": 3
   },
   "file_extension": ".py",
   "mimetype": "text/x-python",
   "name": "python",
   "nbconvert_exporter": "python",
   "pygments_lexer": "ipython3",
   "version": "3.11.13"
  }
 },
 "nbformat": 4,
 "nbformat_minor": 5
}
